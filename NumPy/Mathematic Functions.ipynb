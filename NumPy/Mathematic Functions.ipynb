{
 "cells": [
  {
   "cell_type": "markdown",
   "metadata": {},
   "source": [
    "# Mathematical functions"
   ]
  },
  {
   "cell_type": "code",
   "execution_count": 1,
   "metadata": {},
   "outputs": [],
   "source": [
    "import numpy as np"
   ]
  },
  {
   "cell_type": "code",
   "execution_count": 4,
   "metadata": {},
   "outputs": [
    {
     "name": "stdout",
     "output_type": "stream",
     "text": [
      "[[1 2 3]\n",
      " [4 5 6]\n",
      " [7 8 9]]\n",
      "[[1 2 3]\n",
      " [4 5 6]\n",
      " [7 8 9]]\n"
     ]
    }
   ],
   "source": [
    "a1=np.arange(1,10).reshape(3,3)\n",
    "a2=np.arange(1,10).reshape(3,3)\n",
    "print(a1)\n",
    "print(a2)"
   ]
  },
  {
   "cell_type": "code",
   "execution_count": 6,
   "metadata": {},
   "outputs": [
    {
     "name": "stdout",
     "output_type": "stream",
     "text": [
      "[[ 2  4  6]\n",
      " [ 8 10 12]\n",
      " [14 16 18]]\n",
      "[[ 2  4  6]\n",
      " [ 8 10 12]\n",
      " [14 16 18]]\n"
     ]
    }
   ],
   "source": [
    "a3=a1+a2\n",
    "a4=np.add(a1,a2)\n",
    "print(a3)\n",
    "print(a4)"
   ]
  },
  {
   "cell_type": "code",
   "execution_count": 8,
   "metadata": {},
   "outputs": [],
   "source": [
    "a5=np.subtract(a1,a2)#a1-a2\n",
    "a6=np.divide(a1,a2)#a1/a2\n",
    "a7=np.multiply(a1,a2)#a1*a2\n",
    "a8=a1.dot(a2)#a1@a2"
   ]
  },
  {
   "cell_type": "code",
   "execution_count": 13,
   "metadata": {},
   "outputs": [
    {
     "name": "stdout",
     "output_type": "stream",
     "text": [
      "9\n",
      "8\n",
      "1\n",
      "0\n"
     ]
    }
   ],
   "source": [
    "v1=a1.max()#max value\n",
    "print(v1)\n",
    "v2=a1.argmax()#index of max value\n",
    "print(v2)\n",
    "v3=a1.min()#min value\n",
    "print(v3)\n",
    "v4=a1.argmin()#index of min value\n",
    "print(v4)"
   ]
  },
  {
   "cell_type": "code",
   "execution_count": 15,
   "metadata": {},
   "outputs": [
    {
     "name": "stdout",
     "output_type": "stream",
     "text": [
      "[7 8 9]\n",
      "[3 6 9]\n",
      "[1 2 3]\n",
      "[3 6 9]\n"
     ]
    }
   ],
   "source": [
    "a9=a1.max(axis=0)#column wise max value\n",
    "print(a9)\n",
    "a10=a1.max(axis=1)#row wise max value\n",
    "print(a10)\n",
    "a11=a1.min(axis=0)#column wise min value\n",
    "print(a11)\n",
    "a12=a1.max(axis=1)#row wise min value\n",
    "print(a12)"
   ]
  },
  {
   "cell_type": "code",
   "execution_count": 17,
   "metadata": {},
   "outputs": [
    {
     "name": "stdout",
     "output_type": "stream",
     "text": [
      "45\n",
      "[12 15 18]\n",
      "[ 6 15 24]\n"
     ]
    }
   ],
   "source": [
    "v3=np.sum(a1)#sum of whole array\n",
    "print(v3)\n",
    "a13=np.sum(a1,axis=0)#sum of each column\n",
    "print(a13)\n",
    "a14=np.sum(a1,axis=1)#sum of each row\n",
    "print(a14)"
   ]
  },
  {
   "cell_type": "code",
   "execution_count": 26,
   "metadata": {},
   "outputs": [
    {
     "name": "stdout",
     "output_type": "stream",
     "text": [
      "5.0\n",
      "[[1.         1.41421356 1.73205081]\n",
      " [2.         2.23606798 2.44948974]\n",
      " [2.64575131 2.82842712 3.        ]]\n",
      "2.581988897471611\n",
      "[[2.71828183e+00 7.38905610e+00 2.00855369e+01]\n",
      " [5.45981500e+01 1.48413159e+02 4.03428793e+02]\n",
      " [1.09663316e+03 2.98095799e+03 8.10308393e+03]]\n",
      "[[0.         0.69314718 1.09861229]\n",
      " [1.38629436 1.60943791 1.79175947]\n",
      " [1.94591015 2.07944154 2.19722458]]\n",
      "[[0.         0.30103    0.47712125]\n",
      " [0.60205999 0.69897    0.77815125]\n",
      " [0.84509804 0.90308999 0.95424251]]\n"
     ]
    }
   ],
   "source": [
    "v4=np.mean(a1) #mean\n",
    "print(v4)\n",
    "a15=np.sqrt(a1)#square root\n",
    "print(a15)\n",
    "v5=np.std(a1)#standard deviation\n",
    "print(v5)\n",
    "a16=np.exp(a1)#exponential\n",
    "print(a16)\n",
    "a17=np.log(a1)#log\n",
    "print(a17)\n",
    "a18=np.log10(a1)#log base 10\n",
    "print(a18)"
   ]
  },
  {
   "cell_type": "code",
   "execution_count": 28,
   "metadata": {},
   "outputs": [
    {
     "name": "stdout",
     "output_type": "stream",
     "text": [
      "[[0.         0.18544902 0.29392975]\n",
      " [0.37089805 0.4305993  0.47937877]\n",
      " [0.52062123 0.55634707 0.5878595 ]]\n"
     ]
    }
   ],
   "source": [
    "base = 42 #n base log\n",
    "a19 = np.log(a1) / np.log(base)\n",
    "print(a19)"
   ]
  }
 ],
 "metadata": {
  "kernelspec": {
   "display_name": "Python 3",
   "language": "python",
   "name": "python3"
  },
  "language_info": {
   "codemirror_mode": {
    "name": "ipython",
    "version": 3
   },
   "file_extension": ".py",
   "mimetype": "text/x-python",
   "name": "python",
   "nbconvert_exporter": "python",
   "pygments_lexer": "ipython3",
   "version": "3.7.6"
  }
 },
 "nbformat": 4,
 "nbformat_minor": 4
}
