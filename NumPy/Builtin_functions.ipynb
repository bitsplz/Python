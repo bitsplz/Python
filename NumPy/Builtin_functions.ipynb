{
 "cells": [
  {
   "cell_type": "markdown",
   "metadata": {},
   "source": [
    "# Built-in Functions"
   ]
  },
  {
   "cell_type": "code",
   "execution_count": null,
   "metadata": {},
   "outputs": [],
   "source": [
    "import numpy as np"
   ]
  },
  {
   "cell_type": "code",
   "execution_count": 2,
   "metadata": {},
   "outputs": [
    {
     "name": "stdout",
     "output_type": "stream",
     "text": [
      "[ 2  3  4  5  6  7  8  9 10 11 12]\n",
      "[ 1  3  5  7  9 11 13 15 17 19]\n"
     ]
    }
   ],
   "source": [
    "#np.arange(start,end,step)\n",
    "a1=np.arange(2,13)\n",
    "a2=np.arange(1,20,2)\n",
    "print(a1)\n",
    "print(a2)"
   ]
  },
  {
   "cell_type": "code",
   "execution_count": 5,
   "metadata": {},
   "outputs": [
    {
     "name": "stdout",
     "output_type": "stream",
     "text": [
      "[1.         3.33333333 5.66666667 8.        ]\n",
      "[2.         2.08163265 2.16326531 2.24489796 2.32653061 2.40816327\n",
      " 2.48979592 2.57142857 2.65306122 2.73469388 2.81632653 2.89795918\n",
      " 2.97959184 3.06122449 3.14285714 3.2244898  3.30612245 3.3877551\n",
      " 3.46938776 3.55102041 3.63265306 3.71428571 3.79591837 3.87755102\n",
      " 3.95918367 4.04081633 4.12244898 4.20408163 4.28571429 4.36734694\n",
      " 4.44897959 4.53061224 4.6122449  4.69387755 4.7755102  4.85714286\n",
      " 4.93877551 5.02040816 5.10204082 5.18367347 5.26530612 5.34693878\n",
      " 5.42857143 5.51020408 5.59183673 5.67346939 5.75510204 5.83673469\n",
      " 5.91836735 6.        ]\n",
      "50\n"
     ]
    }
   ],
   "source": [
    "#np.linspace(start,end,num_of_val)\n",
    "a3=np.linspace(1,8,4)\n",
    "a4=np.linspace(2,6)\n",
    "print(a3)\n",
    "print(a4)\n",
    "print(len(a4))"
   ]
  },
  {
   "cell_type": "code",
   "execution_count": 17,
   "metadata": {},
   "outputs": [
    {
     "name": "stdout",
     "output_type": "stream",
     "text": [
      "[[1 2 3 4]\n",
      " [5 6 7 8]]\n",
      "[[1 2]\n",
      " [3 4]\n",
      " [5 6]\n",
      " [7 8]]\n",
      "a8: \n",
      "[[[1 2]\n",
      "  [3 4]]\n",
      "\n",
      " [[5 6]\n",
      "  [7 8]]]\n"
     ]
    }
   ],
   "source": [
    "a5=np.array([1,2,3,4,5,6,7,8])\n",
    "a6=a5.reshape(2,4)\n",
    "a7=a5.reshape(4,2)\n",
    "a8=a5.reshape(2,2,2)\n",
    "print(a6)\n",
    "print(a7)\n",
    "print(\"a8: \\n\"+str(a8))"
   ]
  },
  {
   "cell_type": "code",
   "execution_count": 27,
   "metadata": {},
   "outputs": [],
   "source": [
    "a13=np.arange(0,12).reshape(2,6)"
   ]
  },
  {
   "cell_type": "markdown",
   "metadata": {},
   "source": [
    "#RAVEL()\n",
    "(i) Return only reference/view of original array\n",
    "(ii) If you modify the array you would notice that the value of original array also changes.\n",
    "(iii) Ravel is faster than flatten() as it does not occupy any memory."
   ]
  },
  {
   "cell_type": "code",
   "execution_count": 19,
   "metadata": {},
   "outputs": [
    {
     "data": {
      "text/plain": [
       "array([1, 2, 3, 4, 5, 6, 7, 8])"
      ]
     },
     "execution_count": 19,
     "metadata": {},
     "output_type": "execute_result"
    }
   ],
   "source": [
    "a8.ravel()"
   ]
  },
  {
   "cell_type": "markdown",
   "metadata": {},
   "source": [
    "#FLATTEN()\n",
    "(i) Return copy of original array\n",
    "(ii) If you modify any value of this array value of original array is not affected.\n",
    "(iii) Flatten() is comparatively slower than ravel() as it occupies memory."
   ]
  },
  {
   "cell_type": "code",
   "execution_count": 25,
   "metadata": {},
   "outputs": [
    {
     "name": "stdout",
     "output_type": "stream",
     "text": [
      "[1 2 3 4 5 6 7 8]\n",
      "[1 5 3 7 2 6 4 8]\n",
      "[1 2 3 4 5 6 7 8]\n",
      "[1 2 3 4 5 6 7 8]\n"
     ]
    }
   ],
   "source": [
    "a9=a8.flatten()\n",
    "a10=a8.flatten('F')\n",
    "a11=a8.flatten('A')\n",
    "a12=a8.flatten('K')\n",
    "print(a9)\n",
    "print(a10)\n",
    "print(a11)\n",
    "print(a12)"
   ]
  },
  {
   "cell_type": "code",
   "execution_count": 29,
   "metadata": {},
   "outputs": [
    {
     "name": "stdout",
     "output_type": "stream",
     "text": [
      "[[ 0  6]\n",
      " [ 1  7]\n",
      " [ 2  8]\n",
      " [ 3  9]\n",
      " [ 4 10]\n",
      " [ 5 11]]\n",
      "[[ 0  6]\n",
      " [ 1  7]\n",
      " [ 2  8]\n",
      " [ 3  9]\n",
      " [ 4 10]\n",
      " [ 5 11]]\n"
     ]
    }
   ],
   "source": [
    "a14=a13.transpose()\n",
    "a15=a13.T\n",
    "print(a14)\n",
    "print(a15)"
   ]
  }
 ],
 "metadata": {
  "kernelspec": {
   "display_name": "Python 3",
   "language": "python",
   "name": "python3"
  },
  "language_info": {
   "codemirror_mode": {
    "name": "ipython",
    "version": 3
   },
   "file_extension": ".py",
   "mimetype": "text/x-python",
   "name": "python",
   "nbconvert_exporter": "python",
   "pygments_lexer": "ipython3",
   "version": "3.7.6"
  }
 },
 "nbformat": 4,
 "nbformat_minor": 4
}
