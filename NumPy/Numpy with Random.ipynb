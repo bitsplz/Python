{
 "cells": [
  {
   "cell_type": "markdown",
   "metadata": {},
   "source": [
    "# Numpy with random\n",
    "https://numpy.org/doc/1.16/reference/routines.random.html"
   ]
  },
  {
   "cell_type": "code",
   "execution_count": null,
   "metadata": {},
   "outputs": [],
   "source": [
    "import random\n",
    "import numpy as np"
   ]
  },
  {
   "cell_type": "code",
   "execution_count": 12,
   "metadata": {},
   "outputs": [
    {
     "data": {
      "text/plain": [
       "array([[0.03730248, 0.41218521, 0.59393626],\n",
       "       [0.71423301, 0.40497881, 0.1247829 ],\n",
       "       [0.69498143, 0.40422784, 0.73035812]])"
      ]
     },
     "execution_count": 12,
     "metadata": {},
     "output_type": "execute_result"
    }
   ],
   "source": [
    "np.random.random((3,3))"
   ]
  },
  {
   "cell_type": "code",
   "execution_count": 22,
   "metadata": {},
   "outputs": [
    {
     "data": {
      "text/plain": [
       "array([[[5, 4, 7],\n",
       "        [6, 7, 5],\n",
       "        [3, 7, 5]],\n",
       "\n",
       "       [[8, 5, 8],\n",
       "        [4, 6, 3],\n",
       "        [8, 5, 3]],\n",
       "\n",
       "       [[8, 2, 6],\n",
       "        [8, 6, 1],\n",
       "        [2, 2, 8]],\n",
       "\n",
       "       [[6, 4, 7],\n",
       "        [7, 3, 5],\n",
       "        [2, 4, 4]]])"
      ]
     },
     "execution_count": 22,
     "metadata": {},
     "output_type": "execute_result"
    }
   ],
   "source": [
    "np.random.randint(1,4)\n",
    "np.random.randint(1,9,(3,3))\n",
    "np.random.randint(1,9,(4,3,3))"
   ]
  },
  {
   "cell_type": "code",
   "execution_count": 23,
   "metadata": {},
   "outputs": [
    {
     "data": {
      "text/plain": [
       "array([[4, 3, 8],\n",
       "       [8, 5, 3],\n",
       "       [2, 5, 4]])"
      ]
     },
     "execution_count": 23,
     "metadata": {},
     "output_type": "execute_result"
    }
   ],
   "source": [
    "np.random.seed(20) #(2^32)-1 values\n",
    "np.random.randint(1,9,(3,3))"
   ]
  },
  {
   "cell_type": "code",
   "execution_count": 26,
   "metadata": {},
   "outputs": [
    {
     "data": {
      "text/plain": [
       "array([[-2.09877391, -1.85559768,  0.55097131],\n",
       "       [-0.36372358, -0.99642606, -1.1653022 ]])"
      ]
     },
     "execution_count": 26,
     "metadata": {},
     "output_type": "execute_result"
    }
   ],
   "source": [
    "np.random.rand(3)\n",
    "np.random.rand(2,3)\n",
    "np.random.randn(2,3)"
   ]
  },
  {
   "cell_type": "code",
   "execution_count": 29,
   "metadata": {},
   "outputs": [
    {
     "data": {
      "text/plain": [
       "29"
      ]
     },
     "execution_count": 29,
     "metadata": {},
     "output_type": "execute_result"
    }
   ],
   "source": [
    "a1=[9,5,8,4,5,75,6,6,7,5,4,29,4,3,94,8,7,5,8,4]\n",
    "np.random.choice(a1)"
   ]
  },
  {
   "cell_type": "code",
   "execution_count": 31,
   "metadata": {},
   "outputs": [
    {
     "data": {
      "text/plain": [
       "array([ 6, 29,  3,  5,  9,  4,  6,  4,  5,  4,  7,  5,  8, 75,  5,  7,  4,\n",
       "       94,  8,  8])"
      ]
     },
     "execution_count": 31,
     "metadata": {},
     "output_type": "execute_result"
    }
   ],
   "source": [
    "np.random.permutation(a1)#shuffle"
   ]
  }
 ],
 "metadata": {
  "kernelspec": {
   "display_name": "Python 3",
   "language": "python",
   "name": "python3"
  },
  "language_info": {
   "codemirror_mode": {
    "name": "ipython",
    "version": 3
   },
   "file_extension": ".py",
   "mimetype": "text/x-python",
   "name": "python",
   "nbconvert_exporter": "python",
   "pygments_lexer": "ipython3",
   "version": "3.7.6"
  }
 },
 "nbformat": 4,
 "nbformat_minor": 4
}
